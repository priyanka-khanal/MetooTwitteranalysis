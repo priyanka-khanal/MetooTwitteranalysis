{
 "cells": [
  {
   "cell_type": "code",
   "execution_count": null,
   "metadata": {},
   "outputs": [],
   "source": [
    "from twitter_keys import consumer_key, consumer_secret, access_token, access_secret\n",
    "import tweepy #for twitter API\n",
    "import pandas as pd # To Handle Data\n",
    "import numpy as np #for number computing\n",
    "#for visualization and plotting\n",
    "auth = tweepy.OAuthHandler(consumer_key, consumer_secret)\n",
    "auth.set_access_token(access_token, access_secret)\n",
    "api = tweepy.API(auth)\n",
    "print(\"Extracting query using tweepy having #MeToo.\")\n",
    "MeToo=[]\n",
    "for tweet in tweepy.Cursor(api.search, q='#MeToo').items(10):\n",
    "    tweets.append(tweet)\n",
    "with open(\"MeToo.pkl\", 'wb') as f:\n",
    "    pickle.dump(MeToo, f)\n",
    "\n",
    "print(\"#MeToo tweets extracted are\", len(MeToo))\n"
   ]
  },
  {
   "cell_type": "code",
   "execution_count": null,
   "metadata": {},
   "outputs": [],
   "source": []
  }
 ],
 "metadata": {
  "kernelspec": {
   "display_name": "Python 3 (Spyder)",
   "language": "python3",
   "name": "python3"
  },
  "language_info": {
   "codemirror_mode": {
    "name": "ipython",
    "version": 3
   },
   "file_extension": ".py",
   "mimetype": "text/x-python",
   "name": "python",
   "nbconvert_exporter": "python",
   "pygments_lexer": "ipython3",
   "version": "3.7.1"
  }
 },
 "nbformat": 4,
 "nbformat_minor": 2
}
